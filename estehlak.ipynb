{
 "cells": [
  {
   "cell_type": "code",
   "execution_count": 9,
   "metadata": {},
   "outputs": [
    {
     "name": "stdout",
     "output_type": "stream",
     "text": [
      "Enter cost:1000000\n"
     ]
    }
   ],
   "source": [
    "cost=int(input(\"Enter cost:\"))"
   ]
  },
  {
   "cell_type": "code",
   "execution_count": 10,
   "metadata": {},
   "outputs": [
    {
     "name": "stdout",
     "output_type": "stream",
     "text": [
      "Cost for year 1   800000.0\n",
      "Cost for year 2   640000.0\n",
      "Cost for year 3   512000.0\n",
      "Cost for year 4   409600.0\n",
      "Cost for year 5   327680.0\n",
      "Cost for year 6   262144.0\n",
      "Cost for year 7   209715.2\n",
      "Cost for year 8   167772.16\n",
      "Cost for year 9   134217.728\n",
      "Cost for year 10   107374.1824\n"
     ]
    }
   ],
   "source": [
    "for i in range(1,11):\n",
    "    cost=cost-cost*20/100\n",
    "    print(\"Cost for year\",i,\" \",cost)"
   ]
  },
  {
   "cell_type": "code",
   "execution_count": null,
   "metadata": {},
   "outputs": [],
   "source": []
  }
 ],
 "metadata": {
  "kernelspec": {
   "display_name": "Python 3",
   "language": "python",
   "name": "python3"
  },
  "language_info": {
   "codemirror_mode": {
    "name": "ipython",
    "version": 3
   },
   "file_extension": ".py",
   "mimetype": "text/x-python",
   "name": "python",
   "nbconvert_exporter": "python",
   "pygments_lexer": "ipython3",
   "version": "3.6.13"
  }
 },
 "nbformat": 4,
 "nbformat_minor": 2
}
